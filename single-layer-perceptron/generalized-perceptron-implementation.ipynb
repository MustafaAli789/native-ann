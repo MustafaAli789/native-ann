{
 "cells": [
  {
   "cell_type": "code",
   "execution_count": 11,
   "metadata": {},
   "outputs": [],
   "source": [
    "import numpy as np\n",
    "import ipdb"
   ]
  },
  {
   "cell_type": "code",
   "execution_count": 2,
   "metadata": {},
   "outputs": [],
   "source": [
    "class NeuralNetwork():\n",
    "    def __init__(self, num_inputs):\n",
    "        np.random.seed(1)\n",
    "        \n",
    "        self.synaptic_weights = 2* np.random.random((num_inputs, 1)) - 1 #b/w -1 and 1 w/ mean of 0\n",
    "        \n",
    "    def sigmoid(self, x):\n",
    "        return 1 / (1+np.exp(-x))\n",
    "\n",
    "    def sigmoid_derivative(self, x):\n",
    "        return x * (1-x)\n",
    "\n",
    "    def train(self, training_inputs, training_outputs, training_iterations):\n",
    "        \n",
    "        for iteration in range(training_iterations):\n",
    "            output = self.predict(training_inputs)\n",
    "            error = training_outputs - output\n",
    "            adjustments = np.dot(training_inputs.T, error * self.sigmoid_derivative(output))\n",
    "            self.synaptic_weights += adjustments\n",
    "    \n",
    "    def predict(self, inputs):\n",
    "        inputs = inputs.astype(float)\n",
    "        output = self.sigmoid(np.dot(inputs, self.synaptic_weights))\n",
    "        return output\n",
    "        "
   ]
  },
  {
   "cell_type": "code",
   "execution_count": 3,
   "metadata": {},
   "outputs": [
    {
     "name": "stdout",
     "output_type": "stream",
     "text": [
      "Random Synaptic Weights:\n",
      "[[-0.16595599]\n",
      " [ 0.44064899]\n",
      " [-0.99977125]]\n",
      "Synaptic weights after training: \n",
      "[[12.00870061]\n",
      " [-0.2044116 ]\n",
      " [-5.8002822 ]]\n"
     ]
    }
   ],
   "source": [
    "net = NeuralNetwork(3)\n",
    "\n",
    "print(\"Random Synaptic Weights:\")\n",
    "print(net.synaptic_weights)\n",
    "\n",
    "training_inputs = np.array([[0, 0, 1], \n",
    "                            [1, 1, 1], \n",
    "                            [1, 0, 1], \n",
    "                            [0, 1, 1]])\n",
    "training_outputs = np.array([[0, 1, 1, 0]]).T # transponse to become 4x1 matrix\n",
    "\n",
    "net.train(training_inputs, training_outputs, 100000)\n",
    "\n",
    "print(\"Synaptic weights after training: \")\n",
    "print(net.synaptic_weights)"
   ]
  },
  {
   "cell_type": "code",
   "execution_count": 5,
   "metadata": {},
   "outputs": [
    {
     "name": "stdout",
     "output_type": "stream",
     "text": [
      "[0.00246107]\n",
      "[0.99999391]\n"
     ]
    }
   ],
   "source": [
    "## Testing\n",
    "test_input1 = np.array([0, 1, 1])\n",
    "test_input2 = np.array([1, 0, 0])\n",
    "print(net.predict(test_input1))\n",
    "print(net.predict(test_input2))"
   ]
  },
  {
   "cell_type": "code",
   "execution_count": null,
   "metadata": {},
   "outputs": [],
   "source": []
  }
 ],
 "metadata": {
  "kernelspec": {
   "display_name": "Python 3",
   "language": "python",
   "name": "python3"
  },
  "language_info": {
   "codemirror_mode": {
    "name": "ipython",
    "version": 3
   },
   "file_extension": ".py",
   "mimetype": "text/x-python",
   "name": "python",
   "nbconvert_exporter": "python",
   "pygments_lexer": "ipython3",
   "version": "3.8.3"
  }
 },
 "nbformat": 4,
 "nbformat_minor": 4
}
