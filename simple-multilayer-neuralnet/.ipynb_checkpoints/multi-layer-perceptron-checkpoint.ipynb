{
 "cells": [
  {
   "cell_type": "markdown",
   "metadata": {},
   "source": [
    "## A two layer neural network"
   ]
  },
  {
   "cell_type": "markdown",
   "metadata": {},
   "source": [
    "- Consists of one hidden layer and one output layer\n",
    "- Implemented tanh and sigmoid activation functions and using logloss for loss function\n",
    "- Feedforward and backprop implemented, some theory shown below"
   ]
  },
  {
   "cell_type": "code",
   "execution_count": 1,
   "metadata": {},
   "outputs": [],
   "source": [
    "import numpy as np"
   ]
  },
  {
   "cell_type": "code",
   "execution_count": 4,
   "metadata": {},
   "outputs": [],
   "source": [
    "# activation functions\n",
    "def tanh(x):\n",
    "    return np.tanh(x)\n",
    "\n",
    "def d_tanh(x):\n",
    "    return 1 - np.square(np.tanh(x))\n",
    "\n",
    "#good for classification\n",
    "def sigmoid(x):\n",
    "    return 1/(1+ np.exp(-x))\n",
    "\n",
    "def d_sigmoid(x):\n",
    "    return (1 - sigmoid(x)) * sigmoid(x)\n",
    "\n",
    "#loss functions\n",
    "#logloss is good for classification problems\n",
    "def logloss(y, a):\n",
    "    return -(y*np.log(a) + (1-y)*np.log(1-a))\n",
    "\n",
    "def d_logloss(y, a):\n",
    "    return (a - y)/(a*(1 - a))"
   ]
  },
  {
   "cell_type": "code",
   "execution_count": 7,
   "metadata": {},
   "outputs": [],
   "source": [
    "#layer class\n",
    "class Layer:\n",
    "    \n",
    "    activationFunctions = {\n",
    "        'tanh': (tanh, d_tanh),\n",
    "        'sigmoid': (sigmoid, d_sigmoid)\n",
    "    }\n",
    "    \n",
    "    learning_rate = 0.1\n",
    "    \n",
    "    def __init__(self, inputs, neurons, activation):\n",
    "        self.W = np.random.randn(neurons, inputs)\n",
    "        self.b = np.zeros((neurons, 1))\n",
    "        self.act, self.d_act = self.activationFunctions.get(activation)\n",
    "    \n",
    "    def feedForward(self, A_prev):\n",
    "        self.A_prev = A_prev\n",
    "        self.Z = np.dot(self.W, self.A_prev) + self.b\n",
    "        self.A = self.act(self.Z)\n",
    "        return self.A\n",
    "    \n",
    "    # all derivatives are wrt to cost\n",
    "    # expects dA of cur layer\n",
    "    def backprop(self, dA):\n",
    "        \n",
    "        #eleemt by element matrix multip, not a normal dot prod since both matrices have same shape (essentialyl scalar)\n",
    "        dZ = np.multiply(self.d_act(self.Z), dA)\n",
    "        \n",
    "         # need ot normalize weights and divide by number of samples\n",
    "        # because it is actually a sum of weights\n",
    "        dW = 1*dZ.shape[1] * np.dot(dZ, self.A_prev.T)\n",
    "        \n",
    "        # this is to match shape since biases is supposed to be a col vector with 1 col but dZ has m cols\n",
    "        # w/ m being num of samples, we want to take avg of all samples in dZ (i.e on a row by row basis, sum of cols\n",
    "        # and divide by total num of smamples)\n",
    "        db = 1*dZ.shape[1] * np.sum(dZ, axis = 1, keepdims = True)\n",
    "        \n",
    "        dA_prev = np.dot(self.W.T, dZ)\n",
    "        \n",
    "        self.W = self.W - self.learning_rate * dW\n",
    "        self.b = self.b - self.learning_rate * db\n",
    "        return dA_prev"
   ]
  },
  {
   "cell_type": "code",
   "execution_count": 19,
   "metadata": {},
   "outputs": [
    {
     "name": "stdout",
     "output_type": "stream",
     "text": [
      "[[9.57369217e-05]]\n"
     ]
    }
   ],
   "source": [
    "x_train = np.array([[0, 0, 1, 1], \n",
    "                    [0, 1, 0, 1]]) # 2 inputs and 4 samples, i.e 2x4\n",
    "y_train = np.array([[0, 1, 1, 0]]) #1 x num of samples\n",
    "\n",
    "m = 4\n",
    "epochs = 1500\n",
    "\n",
    "layers = [Layer(2, 3, 'tanh'), Layer(3, 1, 'sigmoid')] # hidden layer and output layer\n",
    "costs = []\n",
    "\n",
    "for epoch in range(epochs):\n",
    "    A = x_train\n",
    "    for layer in layers:\n",
    "        A = layer.feedForward(A)\n",
    "    cost = 1/m * np.sum(logloss(y_train, A))\n",
    "    costs.append(cost)\n",
    "    \n",
    "    dA = d_logloss(y_train, A) # after the final output layer dA is found like this since A is just the output\n",
    "    for layer in reversed(layers):\n",
    "        dA = layer.backprop(dA)\n",
    "\n",
    "A = np.array([[0], [0]])\n",
    "for layer in layers:\n",
    "    A = layer.feedForward(A)\n",
    "print(A)"
   ]
  },
  {
   "cell_type": "code",
   "execution_count": 17,
   "metadata": {},
   "outputs": [
    {
     "data": {
      "text/plain": [
       "[<matplotlib.lines.Line2D at 0x7ffab2fc3310>]"
      ]
     },
     "execution_count": 17,
     "metadata": {},
     "output_type": "execute_result"
    },
    {
     "data": {
      "image/png": "[encoded data removed]",
      "text/plain": [
       "<Figure size 432x288 with 1 Axes>"
      ]
     },
     "metadata": {
      "needs_background": "light"
     },
     "output_type": "display_data"
    }
   ],
   "source": [
    "import matplotlib.pyplot as plt\n",
    "plt.plot(range(epochs), costs)"
   ]
  },
  {
   "cell_type": "code",
   "execution_count": null,
   "metadata": {},
   "outputs": [],
   "source": []
  }
 ],
 "metadata": {
  "kernelspec": {
   "display_name": "Python 3",
   "language": "python",
   "name": "python3"
  },
  "language_info": {
   "codemirror_mode": {
    "name": "ipython",
    "version": 3
   },
   "file_extension": ".py",
   "mimetype": "text/x-python",
   "name": "python",
   "nbconvert_exporter": "python",
   "pygments_lexer": "ipython3",
   "version": "3.8.3"
  }
 },
 "nbformat": 4,
 "nbformat_minor": 4
}
