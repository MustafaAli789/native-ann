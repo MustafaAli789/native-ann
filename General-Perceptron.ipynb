{
 "cells": [
  {
   "cell_type": "code",
   "execution_count": 1,
   "metadata": {},
   "outputs": [],
   "source": [
    "from matplotlib import pyplot as plt\n",
    "import numpy as np\n",
    "import ipdb"
   ]
  },
  {
   "cell_type": "code",
   "execution_count": 2,
   "metadata": {},
   "outputs": [],
   "source": [
    "\n",
    "#X will be column vector samples ie m x n w/ m features and n samples\n",
    "class Perceptron:    \n",
    "    def __init__(self, netType):\n",
    "        self.learning_rate = 0.1\n",
    "        self.costs = []\n",
    "        self.netType = netType\n",
    "        self.w = np.random.rand() - 0.5\n",
    "        self.b = np.random.rand() - 0.5\n",
    "    \n",
    "    def feed_forward(self, X, w, b):\n",
    "        z = w.T.dot(X) + b\n",
    "        a = self.sigmoid(z)\n",
    "        return z, a\n",
    "        \n",
    "    def sigmoid(self, x):\n",
    "        return 1 / (1+np.exp(-x))\n",
    "\n",
    "    def der_sigmoid(self, x):\n",
    "        return self.sigmoid(x) * (1-self.sigmoid(x))\n",
    "    \n",
    "    def mse(self, a, target):\n",
    "        return np.square(a-target)\n",
    "    \n",
    "    def der_mse(self, a, target):\n",
    "        return 2*(a-target)\n",
    "    \n",
    "    def logloss(self, a, target):\n",
    "        return -(target*np.log(a) + (1-target)*np.log(1-a))\n",
    "    \n",
    "    def der_logloss(self, a, target):\n",
    "        return (a - target)/(a*(1 - a))\n",
    "        \n",
    "    def fit(self, X, Y, epochs, learning_rate):\n",
    "                \n",
    "        self.w = np.random.randn(X.shape[0], 1)\n",
    "        self.b = np.random.randn()\n",
    "        epoch_costs = []\n",
    "                \n",
    "        for i in range(epochs):\n",
    "            batch_cost_sum = 0\n",
    "            for j in range(X.shape[1]): #doing stochastic \n",
    "                \n",
    "                target = Y[0, j]\n",
    "                X_curItr = X[:, j]\n",
    "                \n",
    "                z, a = self.feed_forward(X_curItr, self.w, self.b)\n",
    "                dcost_da = 0\n",
    "                \n",
    "                if (self.netType == 'classification'):\n",
    "                    batch_cost_sum += self.logloss(a, target)[0]\n",
    "                    dcost_da = self.der_logloss(a, target)\n",
    "                elif (self.netType == 'regression'):\n",
    "                    batch_cost_sum += self.mse(a, target)[0]\n",
    "                    dcost_da = self.der_mse(a, target)\n",
    "                \n",
    "                da_dz = self.der_sigmoid(z) \n",
    "                \n",
    "                dz_dw = X_curItr\n",
    "                dz_db = 1\n",
    "                \n",
    "                dcost_dz = dcost_da * da_dz\n",
    "                \n",
    "                #chain ruling shite\n",
    "                dcost_dw = dcost_dz * dz_dw\n",
    "                dcost_db = dcost_dz * dz_db\n",
    "                \n",
    "                #updating\n",
    "                self.w -= learning_rate * dcost_dw.reshape(dcost_dw.shape[0], 1)\n",
    "                self.b -= learning_rate * dcost_db\n",
    "            epoch_costs.append(batch_cost_sum/X.shape[1])\n",
    "        plt.plot(epoch_costs)\n",
    "    \n",
    "    def predict(self, X):\n",
    "        z, a = self.feed_forward(X, self.w, self.b)\n",
    "        return a"
   ]
  },
  {
   "cell_type": "code",
   "execution_count": 3,
   "metadata": {},
   "outputs": [
    {
     "data": {
      "image/png": "[encoded data removed]",
      "text/plain": [
       "<Figure size 432x288 with 1 Axes>"
      ]
     },
     "metadata": {
      "needs_background": "light"
     },
     "output_type": "display_data"
    }
   ],
   "source": [
    "#Flower Problem Training Classification Problem\n",
    "\n",
    "X_train = np.array([[3, 2, 4, 3, 3.5, 2, 5.5, 1],\n",
    "                    [1.5, 1, 1.5, 1, 0.5, 0.5, 1, 1]])\n",
    "y_train = np.array([[1, 0, 1, 0, 1, 0, 1, 0]])\n",
    "\n",
    "Net = Perceptron('classification')\n",
    "Net.fit(X_train, y_train, 10000, 0.1)"
   ]
  },
  {
   "cell_type": "code",
   "execution_count": 4,
   "metadata": {},
   "outputs": [
    {
     "data": {
      "image/png": "[encoded data removed]",
      "text/plain": [
       "<Figure size 432x288 with 1 Axes>"
      ]
     },
     "metadata": {
      "needs_background": "light"
     },
     "output_type": "display_data"
    }
   ],
   "source": [
    "#Visualizing Flower problem\n",
    "\n",
    "def vis_data():\n",
    "    plt.axis([0, 6, 0 ,3])\n",
    "    plt.grid()\n",
    "    for i in range(X_train.shape[1]):\n",
    "        point  = X_train[:, i]\n",
    "        color = 'r'\n",
    "        if y_train[0, i] == 0:\n",
    "            color = 'b'\n",
    "        plt.scatter(point[0], point[1], c=color)\n",
    "    \n",
    "# check out the networks predictions in the x,y plane\n",
    "for x in np.linspace(0, 6, 30):\n",
    "    for y in np.linspace(0, 3, 30):\n",
    "        test = np.array([[x],[y]])\n",
    "        pred = Net.predict(test)\n",
    "        c = 'b'\n",
    "        if pred > .5:\n",
    "            c = 'r'\n",
    "        plt.scatter([x],[y],c=c, alpha=.2)\n",
    "\n",
    "vis_data()"
   ]
  },
  {
   "cell_type": "code",
   "execution_count": 5,
   "metadata": {},
   "outputs": [
    {
     "data": {
      "image/png": "[encoded data removed]",
      "text/plain": [
       "<Figure size 432x288 with 1 Axes>"
      ]
     },
     "metadata": {
      "needs_background": "light"
     },
     "output_type": "display_data"
    }
   ],
   "source": [
    "#Quick classification --> first num of row vector is output\n",
    "\n",
    "training_inputs = np.array([[0, 0, 1], \n",
    "                            [1, 1, 1], \n",
    "                            [1, 0, 1], \n",
    "                            [0, 1, 1]]).T\n",
    "training_outputs = np.array([[0, 1, 1, 0]]) # transponse to become 4x1 matrix\n",
    "Net2 = Perceptron('classification')\n",
    "Net2.fit(training_inputs, training_outputs, 10000, 0.1)"
   ]
  },
  {
   "cell_type": "code",
   "execution_count": 6,
   "metadata": {},
   "outputs": [
    {
     "name": "stdout",
     "output_type": "stream",
     "text": [
      "[[0.99992326]]\n"
     ]
    }
   ],
   "source": [
    "#Testing quick classification problem\n",
    "test = np.array([[1], [1], [0]])\n",
    "test.shape\n",
    "\n",
    "a = Net2.predict(test)\n",
    "print(a)"
   ]
  },
  {
   "cell_type": "code",
   "execution_count": 8,
   "metadata": {},
   "outputs": [],
   "source": [
    "import os"
   ]
  },
  {
   "cell_type": "code",
   "execution_count": 12,
   "metadata": {},
   "outputs": [
    {
     "data": {
      "text/plain": [
       "0"
      ]
     },
     "execution_count": 12,
     "metadata": {},
     "output_type": "execute_result"
    }
   ],
   "source": [
    "os.system(\"say GOOBERT\")"
   ]
  },
  {
   "cell_type": "code",
   "execution_count": null,
   "metadata": {},
   "outputs": [],
   "source": []
  }
 ],
 "metadata": {
  "kernelspec": {
   "display_name": "Python 3",
   "language": "python",
   "name": "python3"
  },
  "language_info": {
   "codemirror_mode": {
    "name": "ipython",
    "version": 3
   },
   "file_extension": ".py",
   "mimetype": "text/x-python",
   "name": "python",
   "nbconvert_exporter": "python",
   "pygments_lexer": "ipython3",
   "version": "3.8.3"
  }
 },
 "nbformat": 4,
 "nbformat_minor": 4
}
