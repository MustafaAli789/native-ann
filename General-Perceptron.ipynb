{
 "cells": [
  {
   "cell_type": "code",
   "execution_count": 49,
   "metadata": {},
   "outputs": [],
   "source": [
    "from matplotlib import pyplot as plt\n",
    "import numpy as np\n",
    "import ipdb"
   ]
  },
  {
   "cell_type": "code",
   "execution_count": 127,
   "metadata": {},
   "outputs": [],
   "source": [
    "\n",
    "#X will be column vector samples ie m x n w/ m features and n samples\n",
    "class Perceptron:    \n",
    "    def __init__(self, netType):\n",
    "        self.learning_rate = 0.1\n",
    "        self.costs = []\n",
    "        self.netType = netType\n",
    "        self.w = np.random.rand() - 0.5\n",
    "        self.b = np.random.rand() - 0.5\n",
    "    \n",
    "    def feed_forward(self, X, w, b):\n",
    "        z = w.T.dot(X) + b\n",
    "        a = self.sigmoid(z)\n",
    "        return z, a\n",
    "        \n",
    "    def sigmoid(self, x):\n",
    "        return 1 / (1+np.exp(-x))\n",
    "\n",
    "    def der_sigmoid(self, x):\n",
    "        return self.sigmoid(x) * (1-self.sigmoid(x))\n",
    "    \n",
    "    def mse(self, a, target):\n",
    "        return np.square(a-target)\n",
    "    \n",
    "    def der_mse(self, a, target):\n",
    "        return 2*(a-target)\n",
    "    \n",
    "    def logloss(self, a, target):\n",
    "        return -(target*np.log(a) + (1-target)*np.log(1-a))\n",
    "    \n",
    "    def der_logloss(self, a, target):\n",
    "        return (a - target)/(a*(1 - a))\n",
    "        \n",
    "    def fit(self, X, Y, epochs, learning_rate):\n",
    "                \n",
    "        self.w = np.random.randn(X.shape[0], 1)\n",
    "        self.b = np.random.randn()\n",
    "        epoch_costs = []\n",
    "                \n",
    "        for i in range(epochs):\n",
    "            batch_cost_sum = 0\n",
    "            for j in range(X.shape[1]): #doing stochastic \n",
    "                \n",
    "                target = Y[0, j]\n",
    "                X_curItr = X[:, j]\n",
    "                \n",
    "                z, a = self.feed_forward(X_curItr, self.w, self.b)\n",
    "                dcost_da = 0\n",
    "                \n",
    "                if (self.netType == 'classification'):\n",
    "                    batch_cost_sum += self.logloss(a, target)[0]\n",
    "                    dcost_da = self.der_logloss(a, target)\n",
    "                elif (self.netType == 'regression'):\n",
    "                    batch_cost_sum += self.mse(a, target)[0]\n",
    "                    dcost_da = self.der_mse(a, target)\n",
    "                \n",
    "                da_dz = self.der_sigmoid(z) \n",
    "                \n",
    "                dz_dw = X_curItr\n",
    "                dz_db = 1\n",
    "                \n",
    "                dcost_dz = dcost_da * da_dz\n",
    "                \n",
    "                #chain ruling shite\n",
    "                dcost_dw = dcost_dz * dz_dw\n",
    "                dcost_db = dcost_dz * dz_db\n",
    "                \n",
    "                #updating\n",
    "                self.w -= learning_rate * dcost_dw.reshape(dcost_dw.shape[0], 1)\n",
    "                self.b -= learning_rate * dcost_db\n",
    "            epoch_costs.append(batch_cost_sum/X.shape[1])\n",
    "        plt.plot(epoch_costs)\n",
    "    \n",
    "    def predict(self, X):\n",
    "        z, a = self.feed_forward(X, self.w, self.b)\n",
    "        return a"
   ]
  },
  {
   "cell_type": "code",
   "execution_count": 115,
   "metadata": {},
   "outputs": [
    {
     "data": {
      "image/png": "[encoded data removed]",
      "text/plain": [
       "<Figure size 432x288 with 1 Axes>"
      ]
     },
     "metadata": {
      "needs_background": "light"
     },
     "output_type": "display_data"
    }
   ],
   "source": [
    "#Flower Problem Training Classification Problem\n",
    "\n",
    "X_train = np.array([[3, 2, 4, 3, 3.5, 2, 5.5, 1],\n",
    "                    [1.5, 1, 1.5, 1, 0.5, 0.5, 1, 1]])\n",
    "y_train = np.array([[1, 0, 1, 0, 1, 0, 1, 0]])\n",
    "\n",
    "Net = Perceptron('classification')\n",
    "Net.fit(X_train, y_train, 10000, 0.1)"
   ]
  },
  {
   "cell_type": "code",
   "execution_count": 118,
   "metadata": {},
   "outputs": [
    {
     "data": {
      "image/png": "[encoded data removed]",
      "text/plain": [
       "<Figure size 432x288 with 1 Axes>"
      ]
     },
     "metadata": {
      "needs_background": "light"
     },
     "output_type": "display_data"
    }
   ],
   "source": [
    "#Visualizing Flower problem\n",
    "\n",
    "def vis_data():\n",
    "    plt.axis([0, 6, 0 ,3])\n",
    "    plt.grid()\n",
    "    for i in range(len(data)):\n",
    "        point  = X_train[:, i]\n",
    "        color = 'r'\n",
    "        if y_train[0, i] == 0:\n",
    "            color = 'b'\n",
    "        plt.scatter(point[0], point[1], c=color)\n",
    "    \n",
    "# check out the networks predictions in the x,y plane\n",
    "for x in np.linspace(0, 6, 30):\n",
    "    for y in np.linspace(0, 3, 30):\n",
    "        test = np.array([[x],[y]])\n",
    "        pred = Net.predict(test)\n",
    "        c = 'b'\n",
    "        if pred > .5:\n",
    "            c = 'r'\n",
    "        plt.scatter([x],[y],c=c, alpha=.2)\n",
    "\n",
    "vis_data()"
   ]
  },
  {
   "cell_type": "code",
   "execution_count": 128,
   "metadata": {},
   "outputs": [
    {
     "name": "stdout",
     "output_type": "stream",
     "text": [
      "> \u001b[0;32m<ipython-input-127-e1ebc8507bef>\u001b[0m(41)\u001b[0;36mfit\u001b[0;34m()\u001b[0m\n",
      "\u001b[0;32m     40 \u001b[0;31m\u001b[0;34m\u001b[0m\u001b[0m\n",
      "\u001b[0m\u001b[0;32m---> 41 \u001b[0;31m        \u001b[0;32mfor\u001b[0m \u001b[0mi\u001b[0m \u001b[0;32min\u001b[0m \u001b[0mrange\u001b[0m\u001b[0;34m(\u001b[0m\u001b[0mepochs\u001b[0m\u001b[0;34m)\u001b[0m\u001b[0;34m:\u001b[0m\u001b[0;34m\u001b[0m\u001b[0;34m\u001b[0m\u001b[0m\n",
      "\u001b[0m\u001b[0;32m     42 \u001b[0;31m            \u001b[0mbatch_cost_sum\u001b[0m \u001b[0;34m=\u001b[0m \u001b[0;36m0\u001b[0m\u001b[0;34m\u001b[0m\u001b[0;34m\u001b[0m\u001b[0m\n",
      "\u001b[0m\n",
      "ipdb> c\n"
     ]
    },
    {
     "data": {
      "image/png": "[encoded data removed]",
      "text/plain": [
       "<Figure size 432x288 with 1 Axes>"
      ]
     },
     "metadata": {
      "needs_background": "light"
     },
     "output_type": "display_data"
    }
   ],
   "source": [
    "#Quick classification --> first num of row vector is output\n",
    "\n",
    "training_inputs = np.array([[0, 0, 1], \n",
    "                            [1, 1, 1], \n",
    "                            [1, 0, 1], \n",
    "                            [0, 1, 1]]).T\n",
    "training_outputs = np.array([[0, 1, 1, 0]]) # transponse to become 4x1 matrix\n",
    "Net2 = Perceptron('classification')\n",
    "Net2.fit(training_inputs, training_outputs, 10000, 0.1)"
   ]
  },
  {
   "cell_type": "code",
   "execution_count": 132,
   "metadata": {},
   "outputs": [
    {
     "name": "stdout",
     "output_type": "stream",
     "text": [
      "> \u001b[0;32m<ipython-input-127-e1ebc8507bef>\u001b[0m(77)\u001b[0;36mpredict\u001b[0;34m()\u001b[0m\n",
      "\u001b[0;32m     76 \u001b[0;31m        \u001b[0mipdb\u001b[0m\u001b[0;34m.\u001b[0m\u001b[0mset_trace\u001b[0m\u001b[0;34m(\u001b[0m\u001b[0;34m)\u001b[0m\u001b[0;34m\u001b[0m\u001b[0;34m\u001b[0m\u001b[0m\n",
      "\u001b[0m\u001b[0;32m---> 77 \u001b[0;31m        \u001b[0mz\u001b[0m\u001b[0;34m,\u001b[0m \u001b[0ma\u001b[0m \u001b[0;34m=\u001b[0m \u001b[0mself\u001b[0m\u001b[0;34m.\u001b[0m\u001b[0mfeed_forward\u001b[0m\u001b[0;34m(\u001b[0m\u001b[0mX\u001b[0m\u001b[0;34m,\u001b[0m \u001b[0mself\u001b[0m\u001b[0;34m.\u001b[0m\u001b[0mw\u001b[0m\u001b[0;34m,\u001b[0m \u001b[0mself\u001b[0m\u001b[0;34m.\u001b[0m\u001b[0mb\u001b[0m\u001b[0;34m)\u001b[0m\u001b[0;34m\u001b[0m\u001b[0;34m\u001b[0m\u001b[0m\n",
      "\u001b[0m\u001b[0;32m     78 \u001b[0;31m        \u001b[0;32mreturn\u001b[0m \u001b[0ma\u001b[0m\u001b[0;34m\u001b[0m\u001b[0;34m\u001b[0m\u001b[0m\n",
      "\u001b[0m\n",
      "ipdb> c\n",
      "[[0.99996787]]\n"
     ]
    }
   ],
   "source": [
    "#Res\n",
    "test = np.array([[1], [1], [0]])\n",
    "test.shape\n",
    "\n",
    "a = Net2.predict(test)\n",
    "print(a)"
   ]
  },
  {
   "cell_type": "code",
   "execution_count": 121,
   "metadata": {},
   "outputs": [
    {
     "name": "stdout",
     "output_type": "stream",
     "text": [
      "> \u001b[0;32m<ipython-input-83-82339d1d164b>\u001b[0m(11)\u001b[0;36mfeed_forward\u001b[0;34m()\u001b[0m\n",
      "\u001b[0;32m      9 \u001b[0;31m\u001b[0;34m\u001b[0m\u001b[0m\n",
      "\u001b[0m\u001b[0;32m     10 \u001b[0;31m    \u001b[0;32mdef\u001b[0m \u001b[0mfeed_forward\u001b[0m\u001b[0;34m(\u001b[0m\u001b[0mself\u001b[0m\u001b[0;34m,\u001b[0m \u001b[0mX\u001b[0m\u001b[0;34m,\u001b[0m \u001b[0mw\u001b[0m\u001b[0;34m,\u001b[0m \u001b[0mb\u001b[0m\u001b[0;34m)\u001b[0m\u001b[0;34m:\u001b[0m\u001b[0;34m\u001b[0m\u001b[0;34m\u001b[0m\u001b[0m\n",
      "\u001b[0m\u001b[0;32m---> 11 \u001b[0;31m        \u001b[0mz\u001b[0m \u001b[0;34m=\u001b[0m \u001b[0mw\u001b[0m\u001b[0;34m.\u001b[0m\u001b[0mT\u001b[0m\u001b[0;34m.\u001b[0m\u001b[0mdot\u001b[0m\u001b[0;34m(\u001b[0m\u001b[0mX\u001b[0m\u001b[0;34m)\u001b[0m \u001b[0;34m+\u001b[0m \u001b[0mb\u001b[0m\u001b[0;34m\u001b[0m\u001b[0;34m\u001b[0m\u001b[0m\n",
      "\u001b[0m\u001b[0;32m     12 \u001b[0;31m        \u001b[0ma\u001b[0m \u001b[0;34m=\u001b[0m \u001b[0mself\u001b[0m\u001b[0;34m.\u001b[0m\u001b[0msigmoid\u001b[0m\u001b[0;34m(\u001b[0m\u001b[0mz\u001b[0m\u001b[0;34m)\u001b[0m\u001b[0;34m\u001b[0m\u001b[0;34m\u001b[0m\u001b[0m\n",
      "\u001b[0m\u001b[0;32m     13 \u001b[0;31m        \u001b[0;32mreturn\u001b[0m \u001b[0mz\u001b[0m\u001b[0;34m,\u001b[0m \u001b[0ma\u001b[0m\u001b[0;34m\u001b[0m\u001b[0;34m\u001b[0m\u001b[0m\n",
      "\u001b[0m\n",
      "ipdb> print(w)\n",
      "[[6.29960048]\n",
      " [2.79662801]]\n",
      "ipdb> q\n"
     ]
    }
   ],
   "source": [
    "%debug"
   ]
  }
 ],
 "metadata": {
  "kernelspec": {
   "display_name": "Python 3",
   "language": "python",
   "name": "python3"
  },
  "language_info": {
   "codemirror_mode": {
    "name": "ipython",
    "version": 3
   },
   "file_extension": ".py",
   "mimetype": "text/x-python",
   "name": "python",
   "nbconvert_exporter": "python",
   "pygments_lexer": "ipython3",
   "version": "3.8.3"
  }
 },
 "nbformat": 4,
 "nbformat_minor": 4
}
