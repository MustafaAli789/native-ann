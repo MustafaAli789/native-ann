{
 "cells": [
  {
   "cell_type": "code",
   "execution_count": 1,
   "metadata": {},
   "outputs": [],
   "source": [
    "import numpy as np\n",
    "import pandas as pd\n",
    "from matplotlib import pyplot as plt\n",
    "from sklearn.datasets import fetch_openml\n",
    "from sklearn.model_selection import train_test_split\n",
    "from sklearn.preprocessing import StandardScaler\n",
    "from sklearn.utils import check_random_state\n",
    "import ipdb"
   ]
  },
  {
   "cell_type": "code",
   "execution_count": 2,
   "metadata": {},
   "outputs": [],
   "source": [
    "# Load data from https://www.openml.org/d/554\n",
    "X, y = fetch_openml('mnist_784', version=1, return_X_y=True)\n",
    "\n",
    "random_state = check_random_state(0)\n",
    "permutation = random_state.permutation(X.shape[0])\n"
   ]
  },
  {
   "cell_type": "code",
   "execution_count": 3,
   "metadata": {},
   "outputs": [
    {
     "name": "stdout",
     "output_type": "stream",
     "text": [
      "[0 4 1 ... 7 1 1]\n"
     ]
    }
   ],
   "source": [
    "X = X[permutation]\n",
    "y = y[permutation].astype(np.int)\n",
    "X = X.reshape((X.shape[0], -1))\n",
    "print(y)"
   ]
  },
  {
   "cell_type": "code",
   "execution_count": 30,
   "metadata": {},
   "outputs": [
    {
     "data": {
      "image/png": "[encoded data removed]",
      "text/plain": [
       "<Figure size 432x288 with 1 Axes>"
      ]
     },
     "metadata": {
      "needs_background": "light"
     },
     "output_type": "display_data"
    }
   ],
   "source": [
    "\n",
    "X_train, X_test, y_train, y_test = train_test_split(\n",
    "    X, y, train_size=60000, test_size=10000)\n",
    "\n",
    "scaler = StandardScaler()\n",
    "X_train = scaler.fit_transform(X_train).T\n",
    "X_test = scaler.transform(X_test).T\n",
    "\n",
    "plt.gray()\n",
    "plt.imshow(X_test[:, 50].reshape(28, 28))\n",
    "plt.show()"
   ]
  },
  {
   "cell_type": "code",
   "execution_count": 10,
   "metadata": {},
   "outputs": [],
   "source": [
    "def init_params():\n",
    "    W1 = np.random.rand(64, 784) - 0.5 #randn is b/w -0.5 and 0.5\n",
    "    b1 = np.random.rand(64, 1) - 0.5\n",
    "    W2 = np.random.rand(10, 64) - 0.5\n",
    "    b2 = np.random.rand(10, 1) - 0.5\n",
    "    return W1, b1, W2, b2"
   ]
  },
  {
   "cell_type": "code",
   "execution_count": 11,
   "metadata": {},
   "outputs": [],
   "source": [
    "def ReLu(z):\n",
    "    return np.maximum(0, z)\n",
    "def deriv_ReLu(Z):\n",
    "    return Z > 0\n",
    "def softmax(Z):\n",
    "    return np.exp(Z) / sum(np.exp(Z)) #collapses into one row for the sum"
   ]
  },
  {
   "cell_type": "code",
   "execution_count": 12,
   "metadata": {},
   "outputs": [],
   "source": [
    "def forward_prop(W1, b1, W2, b2, X):\n",
    "    Z1 = W1.dot(X) + b1\n",
    "    A1 = ReLu(Z1)\n",
    "    Z2 = W2.dot(A1) + b2\n",
    "    A2 = softmax(Z2)\n",
    "    return Z1, A1, Z2, A2\n",
    "def one_hot(Y):\n",
    "    one_hot_Y = np.zeros((Y.size, Y.max() + 1)) #making a matrix of m x 10 here\n",
    "    one_hot_Y[np.arange(Y.size), Y] = 1 #going through all rows and setting the column w/ index corresponding to the y to 1, its very easy to iterate over numpy arays like this apparently\n",
    "    return one_hot_Y.T\n",
    "def back_prop(Z1, A1, Z2, A2, W1, W2, X, Y):\n",
    "    m = Y.size\n",
    "    one_hot_Y = one_hot(Y)  \n",
    "    \n",
    "    dZ2 = A2 - one_hot_Y\n",
    "    dW2 = 1 / m * dZ2.dot(A1.T)\n",
    "    db2 = 1 /m * np.sum(dZ2, axis = 1, keepdims = True)\n",
    "    \n",
    "    dZ1 = W2.T.dot(dZ2) * deriv_ReLu(Z1)\n",
    "    dW1 = 1 / m *dZ1.dot(X.T)\n",
    "    db1 = 1/ m * np.sum(dZ1, axis = 1, keepdims = True)\n",
    "    return dW1, db1, dW2, db2\n",
    "def update_params(W1, b1, W2, b2, dW1, db1, dW2, db2, alpha):\n",
    "    W1 = W1 - alpha * dW1\n",
    "    b1 = b1 - alpha * db1\n",
    "    W2 = W2 - alpha * dW2\n",
    "    b2 = b2 - alpha * db2\n",
    "    return W1, b1, W2, b2"
   ]
  },
  {
   "cell_type": "code",
   "execution_count": 13,
   "metadata": {
    "pixiedust": {
     "displayParams": {}
    }
   },
   "outputs": [],
   "source": [
    "def get_predictions(A2):\n",
    "    return np.argmax(A2, 0)\n",
    "def get_accuracy(predictions, Y):\n",
    "    print(predictions, Y)\n",
    "    return np.sum(predictions == Y) / Y.size\n",
    "def grad_descent(X, Y, iterations, alpha):\n",
    "    ipdb.set_trace()\n",
    "    W1, b1, W2, b2 = init_params()\n",
    "    for i in range(iterations):\n",
    "        Z1, A1, Z2, A2 = forward_prop(W1, b1, W2, b2, X)\n",
    "        dW1, db1, dW2, db2 = back_prop(Z1, A1, Z2, A2, W1, W2, X, Y)\n",
    "        W1, b1, W2, b2 = update_params(W1, b1, W2, b2, dW1, db1, dW2, db2, alpha)\n",
    "        if (i%10 == 0):\n",
    "            print(\"Iteration: \", i)\n",
    "            print(\"Accuracy:\", get_accuracy(get_predictions(A2), Y))\n",
    "    return W1, b1, W2, b2"
   ]
  },
  {
   "cell_type": "code",
   "execution_count": 18,
   "metadata": {},
   "outputs": [
    {
     "name": "stdout",
     "output_type": "stream",
     "text": [
      "> \u001b[0;32m<ipython-input-13-5efbfe1628e5>\u001b[0m(8)\u001b[0;36mgrad_descent\u001b[0;34m()\u001b[0m\n",
      "\u001b[0;32m      7 \u001b[0;31m    \u001b[0mipdb\u001b[0m\u001b[0;34m.\u001b[0m\u001b[0mset_trace\u001b[0m\u001b[0;34m(\u001b[0m\u001b[0;34m)\u001b[0m\u001b[0;34m\u001b[0m\u001b[0;34m\u001b[0m\u001b[0m\n",
      "\u001b[0m\u001b[0;32m----> 8 \u001b[0;31m    \u001b[0mW1\u001b[0m\u001b[0;34m,\u001b[0m \u001b[0mb1\u001b[0m\u001b[0;34m,\u001b[0m \u001b[0mW2\u001b[0m\u001b[0;34m,\u001b[0m \u001b[0mb2\u001b[0m \u001b[0;34m=\u001b[0m \u001b[0minit_params\u001b[0m\u001b[0;34m(\u001b[0m\u001b[0;34m)\u001b[0m\u001b[0;34m\u001b[0m\u001b[0;34m\u001b[0m\u001b[0m\n",
      "\u001b[0m\u001b[0;32m      9 \u001b[0;31m    \u001b[0;32mfor\u001b[0m \u001b[0mi\u001b[0m \u001b[0;32min\u001b[0m \u001b[0mrange\u001b[0m\u001b[0;34m(\u001b[0m\u001b[0miterations\u001b[0m\u001b[0;34m)\u001b[0m\u001b[0;34m:\u001b[0m\u001b[0;34m\u001b[0m\u001b[0;34m\u001b[0m\u001b[0m\n",
      "\u001b[0m\n",
      "ipdb> c\n",
      "Iteration:  0\n",
      "[9 8 3 ... 9 9 9] [8 9 9 ... 1 3 1]\n",
      "Accuracy: 0.08541666666666667\n",
      "Iteration:  10\n",
      "[7 8 3 ... 1 3 1] [8 9 9 ... 1 3 1]\n",
      "Accuracy: 0.5831166666666666\n",
      "Iteration:  20\n",
      "[7 8 3 ... 1 3 1] [8 9 9 ... 1 3 1]\n",
      "Accuracy: 0.69405\n",
      "Iteration:  30\n",
      "[7 5 3 ... 1 3 1] [8 9 9 ... 1 3 1]\n",
      "Accuracy: 0.7419833333333333\n",
      "Iteration:  40\n",
      "[7 5 3 ... 1 3 1] [8 9 9 ... 1 3 1]\n",
      "Accuracy: 0.7691\n",
      "Iteration:  50\n",
      "[7 5 3 ... 1 3 1] [8 9 9 ... 1 3 1]\n",
      "Accuracy: 0.7876\n",
      "Iteration:  60\n",
      "[7 8 3 ... 1 3 1] [8 9 9 ... 1 3 1]\n",
      "Accuracy: 0.8013833333333333\n",
      "Iteration:  70\n",
      "[7 8 3 ... 1 3 1] [8 9 9 ... 1 3 1]\n",
      "Accuracy: 0.8117333333333333\n",
      "Iteration:  80\n",
      "[8 8 3 ... 1 3 1] [8 9 9 ... 1 3 1]\n",
      "Accuracy: 0.8202166666666667\n",
      "Iteration:  90\n",
      "[8 8 3 ... 1 3 1] [8 9 9 ... 1 3 1]\n",
      "Accuracy: 0.8278666666666666\n",
      "Iteration:  100\n",
      "[8 8 3 ... 1 3 1] [8 9 9 ... 1 3 1]\n",
      "Accuracy: 0.83335\n",
      "Iteration:  110\n",
      "[8 8 3 ... 1 3 1] [8 9 9 ... 1 3 1]\n",
      "Accuracy: 0.8380666666666666\n",
      "Iteration:  120\n",
      "[8 9 3 ... 1 3 1] [8 9 9 ... 1 3 1]\n",
      "Accuracy: 0.84255\n",
      "Iteration:  130\n",
      "[8 9 3 ... 1 3 1] [8 9 9 ... 1 3 1]\n",
      "Accuracy: 0.8464333333333334\n",
      "Iteration:  140\n",
      "[8 9 3 ... 1 3 1] [8 9 9 ... 1 3 1]\n",
      "Accuracy: 0.8506\n",
      "Iteration:  150\n",
      "[8 9 3 ... 1 3 1] [8 9 9 ... 1 3 1]\n",
      "Accuracy: 0.8533833333333334\n",
      "Iteration:  160\n",
      "[8 9 3 ... 1 3 1] [8 9 9 ... 1 3 1]\n",
      "Accuracy: 0.85645\n",
      "Iteration:  170\n",
      "[8 9 3 ... 1 3 1] [8 9 9 ... 1 3 1]\n",
      "Accuracy: 0.8593666666666666\n",
      "Iteration:  180\n",
      "[8 9 3 ... 1 3 1] [8 9 9 ... 1 3 1]\n",
      "Accuracy: 0.8620666666666666\n",
      "Iteration:  190\n",
      "[8 9 3 ... 1 3 1] [8 9 9 ... 1 3 1]\n",
      "Accuracy: 0.86455\n",
      "Iteration:  200\n",
      "[8 9 3 ... 1 3 1] [8 9 9 ... 1 3 1]\n",
      "Accuracy: 0.86675\n",
      "Iteration:  210\n",
      "[8 9 3 ... 1 3 1] [8 9 9 ... 1 3 1]\n",
      "Accuracy: 0.8685166666666667\n",
      "Iteration:  220\n",
      "[8 9 3 ... 1 3 1] [8 9 9 ... 1 3 1]\n",
      "Accuracy: 0.8701\n",
      "Iteration:  230\n",
      "[8 9 3 ... 1 3 1] [8 9 9 ... 1 3 1]\n",
      "Accuracy: 0.8715166666666667\n",
      "Iteration:  240\n",
      "[8 9 3 ... 1 3 1] [8 9 9 ... 1 3 1]\n",
      "Accuracy: 0.8731666666666666\n",
      "Iteration:  250\n",
      "[8 9 3 ... 1 3 1] [8 9 9 ... 1 3 1]\n",
      "Accuracy: 0.8748833333333333\n",
      "Iteration:  260\n",
      "[8 9 3 ... 1 3 1] [8 9 9 ... 1 3 1]\n",
      "Accuracy: 0.8762166666666666\n",
      "Iteration:  270\n",
      "[8 9 3 ... 1 3 1] [8 9 9 ... 1 3 1]\n",
      "Accuracy: 0.8775166666666666\n",
      "Iteration:  280\n",
      "[8 9 3 ... 1 3 1] [8 9 9 ... 1 3 1]\n",
      "Accuracy: 0.8787166666666667\n",
      "Iteration:  290\n",
      "[8 9 3 ... 1 3 1] [8 9 9 ... 1 3 1]\n",
      "Accuracy: 0.8796\n",
      "Iteration:  300\n",
      "[8 9 3 ... 1 3 1] [8 9 9 ... 1 3 1]\n",
      "Accuracy: 0.8749166666666667\n",
      "Iteration:  310\n",
      "[8 9 3 ... 1 3 1] [8 9 9 ... 1 3 1]\n",
      "Accuracy: 0.8737333333333334\n",
      "Iteration:  320\n",
      "[8 9 3 ... 1 3 1] [8 9 9 ... 1 3 1]\n",
      "Accuracy: 0.8796\n",
      "Iteration:  330\n",
      "[8 9 3 ... 1 3 1] [8 9 9 ... 1 3 1]\n",
      "Accuracy: 0.8818\n",
      "Iteration:  340\n",
      "[8 9 3 ... 1 3 1] [8 9 9 ... 1 3 1]\n",
      "Accuracy: 0.8824\n",
      "Iteration:  350\n",
      "[8 9 3 ... 1 3 1] [8 9 9 ... 1 3 1]\n",
      "Accuracy: 0.8823333333333333\n",
      "Iteration:  360\n",
      "[8 9 3 ... 1 3 1] [8 9 9 ... 1 3 1]\n",
      "Accuracy: 0.8831333333333333\n",
      "Iteration:  370\n",
      "[8 9 3 ... 1 3 1] [8 9 9 ... 1 3 1]\n",
      "Accuracy: 0.88495\n",
      "Iteration:  380\n",
      "[8 9 3 ... 1 3 1] [8 9 9 ... 1 3 1]\n",
      "Accuracy: 0.8863666666666666\n",
      "Iteration:  390\n",
      "[8 9 3 ... 1 3 1] [8 9 9 ... 1 3 1]\n",
      "Accuracy: 0.88755\n",
      "Iteration:  400\n",
      "[8 9 3 ... 1 3 1] [8 9 9 ... 1 3 1]\n",
      "Accuracy: 0.8880666666666667\n",
      "Iteration:  410\n",
      "[8 9 3 ... 1 3 1] [8 9 9 ... 1 3 1]\n",
      "Accuracy: 0.8888833333333334\n",
      "Iteration:  420\n",
      "[8 9 3 ... 1 3 1] [8 9 9 ... 1 3 1]\n",
      "Accuracy: 0.8898666666666667\n",
      "Iteration:  430\n",
      "[8 9 3 ... 1 3 1] [8 9 9 ... 1 3 1]\n",
      "Accuracy: 0.8911166666666667\n",
      "Iteration:  440\n",
      "[8 9 3 ... 1 3 1] [8 9 9 ... 1 3 1]\n",
      "Accuracy: 0.8921833333333333\n",
      "Iteration:  450\n",
      "[8 9 3 ... 1 3 1] [8 9 9 ... 1 3 1]\n",
      "Accuracy: 0.8929833333333334\n",
      "Iteration:  460\n",
      "[8 9 3 ... 1 3 1] [8 9 9 ... 1 3 1]\n",
      "Accuracy: 0.8935166666666666\n",
      "Iteration:  470\n",
      "[8 9 3 ... 1 3 1] [8 9 9 ... 1 3 1]\n",
      "Accuracy: 0.8943166666666666\n",
      "Iteration:  480\n",
      "[8 9 3 ... 1 3 1] [8 9 9 ... 1 3 1]\n",
      "Accuracy: 0.8950333333333333\n",
      "Iteration:  490\n",
      "[8 9 3 ... 1 3 1] [8 9 9 ... 1 3 1]\n",
      "Accuracy: 0.8959166666666667\n",
      "Iteration:  500\n",
      "[8 9 3 ... 1 3 1] [8 9 9 ... 1 3 1]\n",
      "Accuracy: 0.8967\n",
      "Iteration:  510\n",
      "[8 9 3 ... 1 3 1] [8 9 9 ... 1 3 1]\n",
      "Accuracy: 0.8975666666666666\n",
      "Iteration:  520\n",
      "[8 9 3 ... 1 3 1] [8 9 9 ... 1 3 1]\n",
      "Accuracy: 0.8982833333333333\n",
      "Iteration:  530\n",
      "[8 9 3 ... 1 3 1] [8 9 9 ... 1 3 1]\n",
      "Accuracy: 0.8990166666666667\n",
      "Iteration:  540\n",
      "[8 9 3 ... 1 3 1] [8 9 9 ... 1 3 1]\n",
      "Accuracy: 0.89985\n",
      "Iteration:  550\n",
      "[8 9 3 ... 1 3 1] [8 9 9 ... 1 3 1]\n",
      "Accuracy: 0.9006\n",
      "Iteration:  560\n",
      "[8 9 3 ... 1 3 1] [8 9 9 ... 1 3 1]\n",
      "Accuracy: 0.9012333333333333\n",
      "Iteration:  570\n",
      "[8 9 3 ... 1 3 1] [8 9 9 ... 1 3 1]\n",
      "Accuracy: 0.9017833333333334\n",
      "Iteration:  580\n",
      "[8 9 3 ... 1 3 1] [8 9 9 ... 1 3 1]\n",
      "Accuracy: 0.9024166666666666\n",
      "Iteration:  590\n",
      "[8 9 3 ... 1 3 1] [8 9 9 ... 1 3 1]\n",
      "Accuracy: 0.9030166666666667\n",
      "Iteration:  600\n",
      "[8 9 3 ... 1 3 1] [8 9 9 ... 1 3 1]\n",
      "Accuracy: 0.9035166666666666\n",
      "Iteration:  610\n",
      "[8 9 3 ... 1 3 1] [8 9 9 ... 1 3 1]\n",
      "Accuracy: 0.9042666666666667\n",
      "Iteration:  620\n",
      "[8 9 3 ... 1 3 1] [8 9 9 ... 1 3 1]\n",
      "Accuracy: 0.9050333333333334\n",
      "Iteration:  630\n",
      "[8 9 3 ... 1 3 1] [8 9 9 ... 1 3 1]\n",
      "Accuracy: 0.90565\n",
      "Iteration:  640\n",
      "[8 9 3 ... 1 3 1] [8 9 9 ... 1 3 1]\n",
      "Accuracy: 0.9062666666666667\n",
      "Iteration:  650\n",
      "[8 9 3 ... 1 3 1] [8 9 9 ... 1 3 1]\n",
      "Accuracy: 0.9066833333333333\n",
      "Iteration:  660\n",
      "[8 9 3 ... 1 3 1] [8 9 9 ... 1 3 1]\n",
      "Accuracy: 0.9070833333333334\n",
      "Iteration:  670\n",
      "[8 9 3 ... 1 3 1] [8 9 9 ... 1 3 1]\n",
      "Accuracy: 0.9076166666666666\n",
      "Iteration:  680\n",
      "[8 9 3 ... 1 3 1] [8 9 9 ... 1 3 1]\n",
      "Accuracy: 0.9081166666666667\n",
      "Iteration:  690\n",
      "[8 9 3 ... 1 3 1] [8 9 9 ... 1 3 1]\n",
      "Accuracy: 0.9086\n",
      "Iteration:  700\n",
      "[8 9 3 ... 1 3 1] [8 9 9 ... 1 3 1]\n",
      "Accuracy: 0.90915\n",
      "Iteration:  710\n",
      "[8 9 3 ... 1 3 1] [8 9 9 ... 1 3 1]\n",
      "Accuracy: 0.9096333333333333\n",
      "Iteration:  720\n",
      "[8 9 3 ... 1 3 1] [8 9 9 ... 1 3 1]\n",
      "Accuracy: 0.9101166666666667\n",
      "Iteration:  730\n",
      "[8 9 3 ... 1 3 1] [8 9 9 ... 1 3 1]\n",
      "Accuracy: 0.91055\n",
      "Iteration:  740\n",
      "[8 9 3 ... 1 3 1] [8 9 9 ... 1 3 1]\n",
      "Accuracy: 0.9110333333333334\n",
      "Iteration:  750\n",
      "[8 9 3 ... 1 3 1] [8 9 9 ... 1 3 1]\n",
      "Accuracy: 0.9115\n",
      "Iteration:  760\n",
      "[8 9 3 ... 1 3 1] [8 9 9 ... 1 3 1]\n",
      "Accuracy: 0.9118\n",
      "Iteration:  770\n",
      "[8 9 3 ... 1 3 1] [8 9 9 ... 1 3 1]\n",
      "Accuracy: 0.9121\n",
      "Iteration:  780\n",
      "[8 9 3 ... 1 3 1] [8 9 9 ... 1 3 1]\n",
      "Accuracy: 0.91265\n",
      "Iteration:  790\n",
      "[8 9 3 ... 1 3 1] [8 9 9 ... 1 3 1]\n",
      "Accuracy: 0.9131166666666667\n",
      "Iteration:  800\n",
      "[8 9 3 ... 1 3 1] [8 9 9 ... 1 3 1]\n",
      "Accuracy: 0.9135333333333333\n",
      "Iteration:  810\n",
      "[8 9 3 ... 1 3 1] [8 9 9 ... 1 3 1]\n",
      "Accuracy: 0.9139\n",
      "Iteration:  820\n",
      "[8 9 3 ... 1 3 1] [8 9 9 ... 1 3 1]\n",
      "Accuracy: 0.9142166666666667\n",
      "Iteration:  830\n",
      "[8 9 3 ... 1 3 1] [8 9 9 ... 1 3 1]\n",
      "Accuracy: 0.9145166666666666\n",
      "Iteration:  840\n",
      "[8 9 3 ... 1 3 1] [8 9 9 ... 1 3 1]\n",
      "Accuracy: 0.9149833333333334\n",
      "Iteration:  850\n",
      "[8 9 3 ... 1 3 1] [8 9 9 ... 1 3 1]\n",
      "Accuracy: 0.9153\n",
      "Iteration:  860\n",
      "[8 9 3 ... 1 3 1] [8 9 9 ... 1 3 1]\n",
      "Accuracy: 0.9155833333333333\n",
      "Iteration:  870\n",
      "[8 9 3 ... 1 3 1] [8 9 9 ... 1 3 1]\n",
      "Accuracy: 0.9158\n",
      "Iteration:  880\n",
      "[8 9 3 ... 1 3 1] [8 9 9 ... 1 3 1]\n",
      "Accuracy: 0.9162\n",
      "Iteration:  890\n",
      "[8 9 3 ... 1 3 1] [8 9 9 ... 1 3 1]\n",
      "Accuracy: 0.9165666666666666\n",
      "Iteration:  900\n",
      "[8 9 3 ... 1 3 1] [8 9 9 ... 1 3 1]\n",
      "Accuracy: 0.9169333333333334\n",
      "Iteration:  910\n",
      "[8 9 3 ... 1 3 1] [8 9 9 ... 1 3 1]\n",
      "Accuracy: 0.9173333333333333\n",
      "Iteration:  920\n",
      "[8 9 3 ... 1 3 1] [8 9 9 ... 1 3 1]\n",
      "Accuracy: 0.91765\n",
      "Iteration:  930\n",
      "[8 9 3 ... 1 3 1] [8 9 9 ... 1 3 1]\n",
      "Accuracy: 0.9179666666666667\n",
      "Iteration:  940\n",
      "[8 9 3 ... 1 3 1] [8 9 9 ... 1 3 1]\n",
      "Accuracy: 0.9183166666666667\n",
      "Iteration:  950\n",
      "[8 9 3 ... 1 3 1] [8 9 9 ... 1 3 1]\n",
      "Accuracy: 0.91855\n",
      "Iteration:  960\n",
      "[8 9 3 ... 1 3 1] [8 9 9 ... 1 3 1]\n",
      "Accuracy: 0.9188833333333334\n",
      "Iteration:  970\n",
      "[8 9 3 ... 1 3 1] [8 9 9 ... 1 3 1]\n",
      "Accuracy: 0.9191666666666667\n",
      "Iteration:  980\n",
      "[8 9 3 ... 1 3 1] [8 9 9 ... 1 3 1]\n",
      "Accuracy: 0.9194833333333333\n"
     ]
    },
    {
     "name": "stdout",
     "output_type": "stream",
     "text": [
      "Iteration:  990\n",
      "[8 9 3 ... 1 3 1] [8 9 9 ... 1 3 1]\n",
      "Accuracy: 0.9199333333333334\n"
     ]
    }
   ],
   "source": [
    "W1, b1, W2, b2 = grad_descent(X_train, y_train, 1000, 0.1)"
   ]
  },
  {
   "cell_type": "code",
   "execution_count": 34,
   "metadata": {},
   "outputs": [
    {
     "name": "stdout",
     "output_type": "stream",
     "text": [
      "Prediction:  [4]\n",
      "Label:  4\n"
     ]
    },
    {
     "data": {
      "image/png": "[encoded data removed]",
      "text/plain": [
       "<Figure size 432x288 with 1 Axes>"
      ]
     },
     "metadata": {
      "needs_background": "light"
     },
     "output_type": "display_data"
    },
    {
     "name": "stdout",
     "output_type": "stream",
     "text": [
      "Prediction:  [2]\n",
      "Label:  2\n"
     ]
    },
    {
     "data": {
      "image/png": "[encoded data removed]",
      "text/plain": [
       "<Figure size 432x288 with 1 Axes>"
      ]
     },
     "metadata": {
      "needs_background": "light"
     },
     "output_type": "display_data"
    },
    {
     "name": "stdout",
     "output_type": "stream",
     "text": [
      "Prediction:  [1]\n",
      "Label:  1\n"
     ]
    },
    {
     "data": {
      "image/png": "[encoded data removed]",
      "text/plain": [
       "<Figure size 432x288 with 1 Axes>"
      ]
     },
     "metadata": {
      "needs_background": "light"
     },
     "output_type": "display_data"
    },
    {
     "name": "stdout",
     "output_type": "stream",
     "text": [
      "Prediction:  [1]\n",
      "Label:  1\n"
     ]
    },
    {
     "data": {
      "image/png": "[encoded data removed]",
      "text/plain": [
       "<Figure size 432x288 with 1 Axes>"
      ]
     },
     "metadata": {
      "needs_background": "light"
     },
     "output_type": "display_data"
    }
   ],
   "source": [
    "def make_predictions(X, W1, b1, W2, b2):\n",
    "    _, _, _, A2 = forward_prop(W1, b1, W2, b2, X)\n",
    "    predictions = get_predictions(A2)\n",
    "    return predictions\n",
    "\n",
    "def test_prediction(index, W1, b1, W2, b2):\n",
    "    current_image = X_test[:, index, None]\n",
    "    prediction = make_predictions(X_test[:, index, None], W1, b1, W2, b2)\n",
    "    label = y_test[index]\n",
    "    print(\"Prediction: \", prediction)\n",
    "    print(\"Label: \", label)\n",
    "    \n",
    "    current_image = current_image.reshape((28, 28))\n",
    "    plt.gray()\n",
    "    plt.imshow(current_image, interpolation='nearest')\n",
    "    plt.show()\n",
    "\n",
    "test_prediction(206, W1, b1, W2, b2)\n",
    "test_prediction(106, W1, b1, W2, b2)\n",
    "test_prediction(996, W1, b1, W2, b2)\n",
    "test_prediction(2016, W1, b1, W2, b2)"
   ]
  },
  {
   "cell_type": "code",
   "execution_count": 27,
   "metadata": {},
   "outputs": [
    {
     "name": "stdout",
     "output_type": "stream",
     "text": [
      "[6 4 7 ... 6 6 3] [6 4 7 ... 6 6 5]\n",
      "Accuracy: 0.9051\n"
     ]
    }
   ],
   "source": [
    "Z1, A1, Z2, A2 = forward_prop(W1, b1, W2, b2, X_test)\n",
    "print(\"Accuracy:\", get_accuracy(get_predictions(A2), y_test))"
   ]
  }
 ],
 "metadata": {
  "kernelspec": {
   "display_name": "Python 3",
   "language": "python",
   "name": "python3"
  },
  "language_info": {
   "codemirror_mode": {
    "name": "ipython",
    "version": 3
   },
   "file_extension": ".py",
   "mimetype": "text/x-python",
   "name": "python",
   "nbconvert_exporter": "python",
   "pygments_lexer": "ipython3",
   "version": "3.8.3"
  }
 },
 "nbformat": 4,
 "nbformat_minor": 4
}
